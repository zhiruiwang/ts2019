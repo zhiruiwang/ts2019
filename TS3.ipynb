{
 "cells": [
  {
   "cell_type": "markdown",
   "metadata": {},
   "source": [
    "# S3 TS practical session: (1h30)\n",
    "\n",
    "# Using Pytorch : TimeSeries and Neural Nets `torch.nn` :\n"
   ]
  },
  {
   "cell_type": "code",
   "execution_count": 1,
   "metadata": {
    "ExecuteTime": {
     "end_time": "2019-12-13T20:27:54.605046Z",
     "start_time": "2019-12-13T20:27:52.622479Z"
    }
   },
   "outputs": [],
   "source": [
    "import pandas as pd\n",
    "import numpy as np\n",
    "import matplotlib.pyplot as plt\n",
    "import torch\n",
    "import torch.nn as nn\n",
    "import logging\n",
    "\n",
    "logging.basicConfig(level=logging.INFO)\n"
   ]
  },
  {
   "cell_type": "markdown",
   "metadata": {},
   "source": [
    "We'll keep it simple and only consider 1-dimensional convolutions"
   ]
  },
  {
   "cell_type": "markdown",
   "metadata": {},
   "source": [
    "# `torch.nn` interesting parts for series\n",
    "\n",
    "Before doing any specific task, lets just review some of the interesting bits available for timeseries in pytorch."
   ]
  },
  {
   "cell_type": "markdown",
   "metadata": {},
   "source": [
    "# (A) Dealing with variable length input with 1dConv & RNN's\n",
    "\n",
    "Let's create two dummy series of two different length"
   ]
  },
  {
   "cell_type": "code",
   "execution_count": 2,
   "metadata": {
    "ExecuteTime": {
     "end_time": "2019-12-13T20:27:55.785628Z",
     "start_time": "2019-12-13T20:27:55.773704Z"
    }
   },
   "outputs": [
    {
     "name": "stdout",
     "output_type": "stream",
     "text": [
      "tensor([[[0.7308, 0.6269, 0.5641, 0.7908, 0.4936, 0.2229, 0.8124, 0.2558,\n",
      "          0.0164, 0.8950, 0.6964, 0.9653, 0.6138, 0.1344, 0.1115, 0.3200,\n",
      "          0.9870, 0.8439, 0.0221, 0.1231, 0.1145, 0.7269, 0.1690, 0.8651,\n",
      "          0.2605, 0.2265, 0.6158, 0.3138, 0.0770, 0.6195, 0.2855, 0.6974,\n",
      "          0.6119]]])\n",
      "tensor([[[0.4041, 0.2329, 0.6244, 0.5621, 0.3285, 0.3897, 0.7083, 0.6154,\n",
      "          0.1115, 0.8091]]])\n"
     ]
    }
   ],
   "source": [
    "x_long = torch.rand(1,1,33)  ## Data needs to be 3d for 1d convolutions ! (batch,serie_size,seq)\n",
    "x_small = torch.rand(1,1,10)\n",
    "\n",
    "print(x_long)\n",
    "print(x_small)"
   ]
  },
  {
   "cell_type": "markdown",
   "metadata": {},
   "source": [
    "\n",
    "\n",
    "\n",
    "## 1-Dimensional Convolutions:\n",
    "\n",
    "1D Convolutions are like a sliding window over the serie:\n",
    "\n",
    "`channel` is the number observations that belongs together, multivariable series have multiple channels (for example, RGB images have 3 channels)\n",
    "\n",
    "Convolutions have multiple parameters:\n",
    "\n",
    "[`torch.nn.Conv1d(in_channels, out_channels, kernel_size, stride=1, padding=0, dilation=1, groups=1, bias=True, padding_modea='zeros')`](https://pytorch.org/docs/stable/nn.html#conv1d)\n",
    "\n",
    "\n",
    "- `stride` controls the stride for the cross-correlation, a single number or a one-element tuple.\n",
    "\n",
    "- `padding` controls the amount of implicit zero-paddings on both sides for padding number of points.\n",
    "\n",
    "- `dilation` controls the spacing between the kernel points; also known as the à trous algorithm. It is harder to describe, but this link has a nice visualization of what dilation does.\n",
    "\n",
    "- `groups` controls the connections between inputs and outputs. in_channels and out_channels must both be divisible by groups\n",
    "\n",
    "\n",
    "## [>> Have a look at this visualization to understand how they behave ! <<](https://github.com/vdumoulin/conv_arithmetic/blob/master/README.md)"
   ]
  },
  {
   "cell_type": "markdown",
   "metadata": {},
   "source": [
    "\n",
    "## Knowing the output size:\n",
    "\n",
    "This formula should give you the output size per channel\n",
    "\n",
    "$$ \\frac{(W−K+2P)}{S}+1$$\n",
    "\n",
    "- W is the input volume\n",
    "- K is the Kernel size\n",
    "- P is the padding\n",
    "- S is the stride"
   ]
  },
  {
   "cell_type": "markdown",
   "metadata": {},
   "source": [
    "## basic 1-d => one sliding window\n",
    "\n",
    "With one input channel and one output channel"
   ]
  },
  {
   "cell_type": "code",
   "execution_count": 3,
   "metadata": {
    "ExecuteTime": {
     "end_time": "2019-12-13T20:34:43.353505Z",
     "start_time": "2019-12-13T20:34:43.342508Z"
    }
   },
   "outputs": [
    {
     "name": "stdout",
     "output_type": "stream",
     "text": [
      "torch.Size([1, 1, 30])\n",
      "tensor([[[ 0.1135, -0.0249,  0.1645,  0.2494, -0.1541,  0.1939,  0.2831,\n",
      "          -0.3274, -0.0752, -0.0008,  0.1953,  0.3943,  0.1733, -0.0819,\n",
      "          -0.3324, -0.0024,  0.5129,  0.2076, -0.0059, -0.2416,  0.1514,\n",
      "          -0.1296,  0.1839,  0.2123, -0.1285,  0.1134,  0.2273, -0.1548,\n",
      "           0.0649, -0.0631]]], grad_fn=<SqueezeBackward1>)\n",
      "torch.Size([1, 1, 7])\n",
      "tensor([[[-0.1005, -0.0051,  0.1892,  0.0704, -0.1192,  0.0432,  0.3109]]],\n",
      "       grad_fn=<SqueezeBackward1>)\n"
     ]
    }
   ],
   "source": [
    "conv_module1 = torch.nn.Conv1d(1,1,4,stride=1)\n",
    "output_long = conv_module1(x_long)\n",
    "output_small = conv_module1(x_small)\n",
    "\n",
    "print(output_long.size()) #24-4+1 (we roll with 4-sized windows and calculate a filter) => 21 values\n",
    "print(output_long)\n",
    "\n",
    "\n",
    "print(output_small.size()) #24-4+1 (we roll with 4-sized windows and calculate a filter) => 21 values\n",
    "print(output_small)\n"
   ]
  },
  {
   "cell_type": "markdown",
   "metadata": {},
   "source": [
    "### => The sizes are not the same :(\n",
    "\n"
   ]
  },
  {
   "cell_type": "markdown",
   "metadata": {},
   "source": [
    "## basic 1-d => multiple sliding windows + max-pooling along channels\n",
    "\n",
    "With one input channel and MORE output channel"
   ]
  },
  {
   "cell_type": "code",
   "execution_count": 4,
   "metadata": {
    "ExecuteTime": {
     "end_time": "2019-12-13T20:38:50.734087Z",
     "start_time": "2019-12-13T20:38:50.723121Z"
    }
   },
   "outputs": [
    {
     "name": "stdout",
     "output_type": "stream",
     "text": [
      "torch.Size([1, 4])\n",
      "tensor([[0.0736, 0.0080, 0.6271, 0.4685]], grad_fn=<MaxBackward0>)\n",
      "\n",
      "torch.Size([1, 4])\n",
      "tensor([[-0.2602, -0.1710,  0.5110,  0.3589]], grad_fn=<MaxBackward0>)\n"
     ]
    }
   ],
   "source": [
    "conv_module1 = torch.nn.Conv1d(1,4,4)\n",
    "\n",
    "output_long,_ =  torch.max(conv_module1(x_long), dim=-1)\n",
    "output_small,_ = torch.max(conv_module1(x_small), dim=-1)\n",
    "\n",
    "\n",
    "\n",
    "print(output_long.size()) \n",
    "print(output_long)\n",
    "\n",
    "print(\"\")\n",
    "\n",
    "print(output_small.size()) \n",
    "print(output_small)\n",
    "\n"
   ]
  },
  {
   "cell_type": "markdown",
   "metadata": {},
   "source": [
    "### => Now, they have the same size ! :)"
   ]
  },
  {
   "cell_type": "markdown",
   "metadata": {},
   "source": [
    "## RNNs\n"
   ]
  },
  {
   "cell_type": "markdown",
   "metadata": {},
   "source": [
    "RNN's are neural networks cells that processes the time serie sequentially (time-step after time-step) instead of in parallel like CNN's. This is because each output at time $t$ is conditioned on $t-1$"
   ]
  },
  {
   "cell_type": "code",
   "execution_count": 5,
   "metadata": {
    "ExecuteTime": {
     "end_time": "2019-12-13T20:39:04.074905Z",
     "start_time": "2019-12-13T20:39:04.069936Z"
    }
   },
   "outputs": [],
   "source": [
    "x_long_rnn = torch.rand(1,33,6)  ## Data needs to be 3d for RNN ! (batch,seq,serie_size)\n",
    "x_small_rnn = torch.rand(1,12,6) "
   ]
  },
  {
   "cell_type": "markdown",
   "metadata": {},
   "source": [
    "### [`torch.nn` rnn'](https://pytorch.org/docs/stable/nn.html#recurrent-layers)\n",
    "\n",
    "\n",
    "You have two kinds:\n",
    "    - (RNN/GRU/LSTM) => These cells processes the whole sequence in one operation X(SEQ) => OUT \n",
    "    - (RNN/GRU/LSTM)Cell => These cells require a for loop to process a whole sequence X(s)=>X(e)=>X(q) => OUT\n",
    "    \n",
    " Both can take variable length inputs. For the former you'll have to pad with 0's so each sequences are of same length. The Latter (XCell) processes inputs via a `for` loop, so padding can be avoided.\n",
    " "
   ]
  },
  {
   "cell_type": "code",
   "execution_count": 6,
   "metadata": {
    "ExecuteTime": {
     "end_time": "2019-12-13T20:39:05.691388Z",
     "start_time": "2019-12-13T20:39:05.662858Z"
    }
   },
   "outputs": [],
   "source": [
    "small_rnn = nn.RNN(5,5)\n",
    "small_gru = nn.GRU(5,5)\n",
    "small_lstm = nn.LSTM(5,5)"
   ]
  },
  {
   "cell_type": "markdown",
   "metadata": {},
   "source": [
    "## Pytorch's RNN  all behave in the same way:\n",
    "\n",
    "### (TODO) => Try different the \"CELL\" variables"
   ]
  },
  {
   "cell_type": "code",
   "execution_count": 21,
   "metadata": {
    "ExecuteTime": {
     "end_time": "2019-12-13T20:49:00.709408Z",
     "start_time": "2019-12-13T20:49:00.683811Z"
    }
   },
   "outputs": [
    {
     "name": "stdout",
     "output_type": "stream",
     "text": [
      "output:\n",
      "------\n",
      "tensor([[[ 0.1941,  0.1952, -0.1692,  0.0500,  0.0701],\n",
      "         [ 0.1619,  0.2273, -0.0063,  0.0054,  0.0337],\n",
      "         [ 0.1575,  0.1988, -0.0164,  0.0113,  0.1283],\n",
      "         [ 0.2124,  0.2129, -0.1088,  0.0130,  0.1008]]],\n",
      "       grad_fn=<StackBackward>)\n",
      "torch.Size([1, 4, 5])\n",
      "\n",
      "\n",
      "\n",
      "\"aggregation\"\n",
      "---\n",
      "tensor([[ 0.2124,  0.2129, -0.1088,  0.0130,  0.1008]],\n",
      "       grad_fn=<SliceBackward>)\n",
      "tensor([[ 0.2124,  0.2273, -0.0063,  0.0500,  0.1283]], grad_fn=<MaxBackward0>)\n"
     ]
    }
   ],
   "source": [
    "CELL = small_lstm#To complete #small_rnn # small_gru # small_lstm\n",
    "\n",
    "\n",
    "output,hidden = CELL(torch.rand(1,4,5)) # Processes a batch of 1 series of 4 timesteps of 5 values\n",
    "\n",
    "print(\"output:\")\n",
    "print(\"------\")\n",
    "print(output)\n",
    "print(output.size())\n",
    "\n",
    "\n",
    "full_seq_rnn = output[:,-1,:] # We select the output of the last timestep.\n",
    "full_seq_max,_ = torch.max(output,1) # we aggregate on the sequence dimension\n",
    "\n",
    "print(\"\\n\\n\")\n",
    "\n",
    "print(\"\\\"aggregation\\\"\")\n",
    "print(\"---\")\n",
    "print(full_seq_rnn)\n",
    "print(full_seq_max)"
   ]
  },
  {
   "cell_type": "markdown",
   "metadata": {},
   "source": [
    "The output size has the same length at the sequence because there is one output per timestep (dimension #1);\n",
    "To have\n"
   ]
  },
  {
   "cell_type": "markdown",
   "metadata": {},
   "source": [
    "## (TODO) process `x_long_rnn` and `x_small_rnn` with a `rnn_cell` so they have the same size\n"
   ]
  },
  {
   "cell_type": "code",
   "execution_count": 29,
   "metadata": {
    "ExecuteTime": {
     "end_time": "2019-12-13T20:56:54.553831Z",
     "start_time": "2019-12-13T20:56:54.545864Z"
    }
   },
   "outputs": [
    {
     "name": "stdout",
     "output_type": "stream",
     "text": [
      "torch.Size([1, 10])\n",
      "torch.Size([1, 10])\n",
      "Outputs are of equal sizes: True\n"
     ]
    }
   ],
   "source": [
    "rnn_cell = nn.RNN(6, 10)## To complete\n",
    "\n",
    "out_long,_ = rnn_cell(x_long_rnn)\n",
    "out_small,_ = rnn_cell(x_small_rnn)\n",
    "\n",
    "out_long = out_long[:,-1,:] # to complete\n",
    "out_small = out_small[:,-1,:] # to complete\n",
    "\n",
    "print(out_small.size())\n",
    "print(out_long.size())\n",
    "\n",
    "\n",
    "print(\"Outputs are of equal sizes:\", out_long.size() == out_small.size())\n"
   ]
  },
  {
   "cell_type": "markdown",
   "metadata": {},
   "source": [
    "### => Take a moment to ponder on what output size is"
   ]
  },
  {
   "cell_type": "markdown",
   "metadata": {},
   "source": [
    "## Pytorch's Cells also all *nearly behave in the same way:\n",
    "\n",
    "*The LSTMCell output is a tuple of tensors instead of just one tensor (it returns cell state)\n"
   ]
  },
  {
   "cell_type": "code",
   "execution_count": 30,
   "metadata": {
    "ExecuteTime": {
     "end_time": "2019-12-13T20:57:09.533913Z",
     "start_time": "2019-12-13T20:57:09.523913Z"
    }
   },
   "outputs": [
    {
     "data": {
      "text/plain": [
       "tensor([[ 0.0337, -0.3135,  0.3543, -0.1711,  0.4147]], grad_fn=<TanhBackward>)"
      ]
     },
     "execution_count": 30,
     "metadata": {},
     "output_type": "execute_result"
    }
   ],
   "source": [
    "small_rnnC = nn.RNNCell(5,5)\n",
    "small_gruC = nn.GRUCell(5,5)\n",
    "small_lstmC = nn.LSTMCell(5,5)\n",
    "\n",
    "small_rnnC(torch.rand(1,5)) # Processes one example of size 5"
   ]
  },
  {
   "cell_type": "code",
   "execution_count": 31,
   "metadata": {
    "ExecuteTime": {
     "end_time": "2019-12-13T20:59:40.450140Z",
     "start_time": "2019-12-13T20:59:40.429657Z"
    }
   },
   "outputs": [
    {
     "name": "stdout",
     "output_type": "stream",
     "text": [
      "outputs:\n",
      "------\n",
      "[tensor([[ 0.1333, -0.0484, -0.0762,  0.0455,  0.0462]], grad_fn=<MulBackward0>), tensor([[ 0.1210, -0.0565, -0.0264,  0.0368,  0.1060]], grad_fn=<MulBackward0>), tensor([[ 0.1542, -0.0217, -0.1352,  0.0074,  0.0390]], grad_fn=<MulBackward0>), tensor([[ 0.1939, -0.0454, -0.1444,  0.0185,  0.1155]], grad_fn=<MulBackward0>)]\n",
      "\n",
      "outputs.size()\n",
      "------\n",
      "[torch.Size([1, 5]), torch.Size([1, 5]), torch.Size([1, 5]), torch.Size([1, 5])]\n",
      "\n",
      "\n",
      "\n",
      "aggregation\n",
      "------\n",
      "tensor([[ 0.1939, -0.0454, -0.1444,  0.0185,  0.1155]], grad_fn=<MulBackward0>)\n",
      "tensor([ 0.1939, -0.0217, -0.0264,  0.0455,  0.1155], grad_fn=<MaxBackward0>)\n",
      "\n"
     ]
    }
   ],
   "source": [
    "CELL = small_lstmC#To complete #small_rnnC # small_gruC # small_lstmC\n",
    "\n",
    "\n",
    "input_seq = torch.rand(1,4,5)\n",
    "\n",
    "outputs = []\n",
    "for i in range(input_seq.size(1)): #for every indices of the sequence\n",
    "    \n",
    "    input_vec = input_seq[:,i,:]     # we take the vector of one timestep\n",
    "    output = CELL(input_vec) # Processes a batch of 1 series of 4 timesteps of 5 values\n",
    "    \n",
    "    if type(output) is tuple: # if it's a lstm\n",
    "        output,_ = output\n",
    "        \n",
    "    outputs.append(output)\n",
    "        \n",
    "        \n",
    "print(\"outputs:\")\n",
    "print(\"------\")\n",
    "print(outputs)\n",
    "print(\"\")\n",
    "print(\"outputs.size()\")\n",
    "print(\"------\")\n",
    "print([x.size() for x in outputs])\n",
    "\n",
    "\n",
    "print(\"\\n\"*2)\n",
    "\n",
    "print(\"aggregation\")\n",
    "print(\"------\")\n",
    "\n",
    "concatenated = torch.cat(outputs,dim=0)\n",
    "maxed,_ = torch.max(concatenated,dim=0)\n",
    "\n",
    "\n",
    "print(outputs[-1])  #we can just select the last one\n",
    "print(maxed)\n",
    "print() #or do a max\n",
    "\n"
   ]
  },
  {
   "cell_type": "markdown",
   "metadata": {},
   "source": [
    "## (TODO) process `x_long_rnn` and `x_small_rnn` with a `*(RNN)Cell` so they have the same size"
   ]
  },
  {
   "cell_type": "code",
   "execution_count": 44,
   "metadata": {
    "ExecuteTime": {
     "end_time": "2019-12-13T21:05:58.921817Z",
     "start_time": "2019-12-13T21:05:58.882081Z"
    }
   },
   "outputs": [
    {
     "name": "stdout",
     "output_type": "stream",
     "text": [
      "torch.Size([1, 10])\n",
      "torch.Size([1, 10])\n",
      "Outputs are of equal sizes: True\n"
     ]
    }
   ],
   "source": [
    "CELL_C = nn.RNNCell(6,10) ## To complete\n",
    "\n",
    "# To complete\n",
    "outputs = []\n",
    "for i in range(x_long_rnn.size(1)): #for every indices of the sequence\n",
    "    \n",
    "    input_vec = x_long_rnn[:,i,:]     # we take the vector of one timestep\n",
    "    output = CELL_C(input_vec) # Processes a batch of 1 series of 4 timesteps of 5 values\n",
    "    \n",
    "    if type(output) is tuple: # if it's a lstm\n",
    "        output,_ = output\n",
    "        \n",
    "    outputs.append(output)\n",
    "out_long = outputs[-1]\n",
    "    \n",
    "outputs = []\n",
    "for i in range(x_small_rnn.size(1)): #for every indices of the sequence\n",
    "    \n",
    "    input_vec = x_small_rnn[:,i,:]     # we take the vector of one timestep\n",
    "    output = CELL_C(input_vec) # Processes a batch of 1 series of 4 timesteps of 5 values\n",
    "    \n",
    "    if type(output) is tuple: # if it's a lstm\n",
    "        output,_ = output\n",
    "        \n",
    "    outputs.append(output)\n",
    "out_small = outputs[-1]\n",
    "\n",
    "print(out_small.size())\n",
    "print(out_long.size())\n",
    "\n",
    "\n",
    "print(\"Outputs are of equal sizes:\", out_long.size() == out_small.size())"
   ]
  },
  {
   "cell_type": "markdown",
   "metadata": {},
   "source": [
    "# (B) Using those parts for classification\n",
    "## Here, we are in the supervised learning framework: Signal classification\n",
    "\n",
    "###  We propose to reuse our simple timeseries classification task to tryout those convolutions/rnn's\n",
    "\n"
   ]
  },
  {
   "cell_type": "markdown",
   "metadata": {},
   "source": [
    "Given this dataset, we'll do the same task as before: prediction of the day of the week."
   ]
  },
  {
   "cell_type": "markdown",
   "metadata": {},
   "source": [
    "### (a) Loading data/create dataset"
   ]
  },
  {
   "cell_type": "code",
   "execution_count": 79,
   "metadata": {
    "ExecuteTime": {
     "end_time": "2019-12-13T22:56:42.978257Z",
     "start_time": "2019-12-13T22:56:41.074432Z"
    }
   },
   "outputs": [
    {
     "data": {
      "image/png": "[encoded data removed]",
      "text/plain": [
       "<Figure size 432x288 with 1 Axes>"
      ]
     },
     "metadata": {
      "needs_background": "light"
     },
     "output_type": "display_data"
    }
   ],
   "source": [
    "#lets load the data and only consider the count as a serie.\n",
    "df = pd.read_csv(\"https://raw.githubusercontent.com/cedias/csvdata/master/train.csv\",parse_dates=[\"datetime\"],usecols=['datetime','count'])\n",
    "df.head()\n",
    "\n",
    "df[\"y\"] = df.datetime.dt.weekday\n",
    "df[\"day\"] = df.datetime.dt.day\n",
    "df[\"hour\"] = df.datetime.dt.hour\n",
    "df[\"month\"] = df.datetime.dt.month\n",
    "df[\"time\"] = df.datetime.dt.time\n",
    "df[\"year\"] = df.datetime.dt.year\n",
    "\n",
    "hour_index = list(range(24))\n",
    "\n",
    "def paddedlist(df):\n",
    "    ndf = df.set_index(\"hour\")\n",
    "    \n",
    "    if len(df.index.values) < 24:\n",
    "        ndf = ndf.reindex(hour_index).fillna(0)\n",
    "     \n",
    "    # Here: I fill missing data with a 0, I could have used other strategies:\n",
    "    #pad / ffill: propagate last valid observation forward to next valid\n",
    "    #backfill / bfill: use next valid observation to fill gap\n",
    "    #nearest: use nearest valid observations to fill gap\n",
    "        \n",
    "    counts = ndf[\"count\"].tolist()\n",
    "    weekday = ndf.iloc[0][\"y\"]\n",
    "    \n",
    "    return  (counts,weekday)\n",
    "\n",
    "\n",
    "X,Y = zip(*(df.groupby([\"day\",\"month\",\"year\"])[\"hour\",\"count\",\"y\"]\n",
    "            .apply(paddedlist)\n",
    "            .reset_index(drop=True)\n",
    "            .sample(frac=1)\n",
    "            .tolist()\n",
    "           ))\n",
    "\n",
    "X = np.array(X)\n",
    "Y = np.array(Y)\n",
    "\n",
    "\n",
    "for x,y in zip(X[:5],Y[:5]):\n",
    "    plt.plot(x,label=int(y))\n",
    "    plt.legend(title=\"signal class\")\n",
    "    \n",
    "X_train = X[:-42]\n",
    "Y_train = Y[:-42]\n",
    "\n",
    "X_test = X[-42:]\n",
    "Y_test = Y[-42:]"
   ]
  },
  {
   "cell_type": "markdown",
   "metadata": {},
   "source": [
    "## First - two really simple convolutionnal Neural Nets:\n",
    "\n",
    "**Note**: We will build non-batched implementation for simplicity, but in practical you'll work with batches of data."
   ]
  },
  {
   "cell_type": "markdown",
   "metadata": {},
   "source": [
    "### (TODO): Complete the following networks by calculating all the convolutions output size"
   ]
  },
  {
   "cell_type": "code",
   "execution_count": 80,
   "metadata": {
    "ExecuteTime": {
     "end_time": "2019-12-13T22:56:57.263120Z",
     "start_time": "2019-12-13T22:56:57.253116Z"
    }
   },
   "outputs": [],
   "source": [
    "\n",
    "class EasyNet(nn.Module):\n",
    "    def __init__(self,num_classes):\n",
    "        super(EasyNet, self).__init__()\n",
    "        self.conv1 = torch.nn.Conv1d(1,1,1) # => yields 24 values\n",
    "        self.conv2 = torch.nn.Conv1d(1,1,2) # => yields 23 values\n",
    "        self.conv4 = torch.nn.Conv1d(1,1,4) # => yields 21 values \n",
    "        self.conv8 = torch.nn.Conv1d(1,1,8) # => ...\n",
    "        self.conv12 = torch.nn.Conv1d(1,1,12)\n",
    "        self.conv24 = torch.nn.Conv1d(1,1,24)\n",
    "        \n",
    "        size_all_convs =  24+23+21+17+13+1# To complete\n",
    "        \n",
    "        self.dropout1 = nn.Dropout2d(0.25)\n",
    "        self.dropout2 = nn.Dropout2d(0.5)\n",
    "        \n",
    "        print(size_all_convs//2)\n",
    "        \n",
    "        self.t1 = nn.Linear(size_all_convs, 24)\n",
    "        self.t2 = nn.Linear(24, num_classes)\n",
    "\n",
    "    def forward(self, x):\n",
    "        \n",
    "        \n",
    "        all_convs = torch.cat([self.conv1(x),self.conv2(x),self.conv4(x),self.conv8(x),self.conv12(x),self.conv24(x)],dim=-1)\n",
    "        first_transform = torch.tanh(self.t1(all_convs))\n",
    "        second_transform = self.t2(first_transform)\n",
    "        \n",
    "        output = second_transform \n",
    "        \n",
    "        return output\n"
   ]
  },
  {
   "cell_type": "markdown",
   "metadata": {},
   "source": [
    "## A small test case to test if the network works"
   ]
  },
  {
   "cell_type": "code",
   "execution_count": 81,
   "metadata": {
    "ExecuteTime": {
     "end_time": "2019-12-13T22:56:59.329698Z",
     "start_time": "2019-12-13T22:56:59.318703Z"
    }
   },
   "outputs": [
    {
     "name": "stdout",
     "output_type": "stream",
     "text": [
      "49\n",
      "tensor([[[ 0.1972, -0.1225, -0.4855,  0.2735,  0.0479, -0.4777, -0.6402]]],\n",
      "       grad_fn=<AddBackward0>)\n"
     ]
    }
   ],
   "source": [
    "net = EasyNet(7) # We do 7 way classification\n",
    "\n",
    "data_point = torch.Tensor(X[0]).unsqueeze(0).unsqueeze(0)\n",
    "\n",
    "print(net(data_point))"
   ]
  },
  {
   "cell_type": "markdown",
   "metadata": {},
   "source": [
    "### (TODO) Optimizing a model, quickly:\n",
    " => Complete this rather simple model optimization routine:"
   ]
  },
  {
   "cell_type": "code",
   "execution_count": 82,
   "metadata": {
    "ExecuteTime": {
     "end_time": "2019-12-13T22:57:18.159580Z",
     "start_time": "2019-12-13T22:57:05.086490Z"
    }
   },
   "outputs": [
    {
     "name": "stderr",
     "output_type": "stream",
     "text": [
      "INFO:root:Iteration 0\n",
      "INFO:root:Iteration 1\n"
     ]
    },
    {
     "name": "stdout",
     "output_type": "stream",
     "text": [
      "Train loss : 1.9561487830779403\n",
      "Test accuracy :  23.809523809523807\n"
     ]
    },
    {
     "name": "stderr",
     "output_type": "stream",
     "text": [
      "INFO:root:Iteration 2\n"
     ]
    },
    {
     "name": "stdout",
     "output_type": "stream",
     "text": [
      "Train loss : 1.8281535460177252\n",
      "Test accuracy :  28.57142857142857\n"
     ]
    },
    {
     "name": "stderr",
     "output_type": "stream",
     "text": [
      "INFO:root:Iteration 3\n"
     ]
    },
    {
     "name": "stdout",
     "output_type": "stream",
     "text": [
      "Train loss : 1.7618303632966563\n",
      "Test accuracy :  30.952380952380953\n"
     ]
    },
    {
     "name": "stderr",
     "output_type": "stream",
     "text": [
      "INFO:root:Iteration 4\n"
     ]
    },
    {
     "name": "stdout",
     "output_type": "stream",
     "text": [
      "Train loss : 1.7096119986640081\n",
      "Test accuracy :  30.952380952380953\n"
     ]
    },
    {
     "name": "stderr",
     "output_type": "stream",
     "text": [
      "INFO:root:Iteration 5\n"
     ]
    },
    {
     "name": "stdout",
     "output_type": "stream",
     "text": [
      "Train loss : 1.6457652464005106\n",
      "Test accuracy :  35.714285714285715\n"
     ]
    },
    {
     "name": "stderr",
     "output_type": "stream",
     "text": [
      "INFO:root:Iteration 6\n"
     ]
    },
    {
     "name": "stdout",
     "output_type": "stream",
     "text": [
      "Train loss : 1.5994003577796734\n",
      "Test accuracy :  35.714285714285715\n"
     ]
    },
    {
     "name": "stderr",
     "output_type": "stream",
     "text": [
      "INFO:root:Iteration 7\n"
     ]
    },
    {
     "name": "stdout",
     "output_type": "stream",
     "text": [
      "Train loss : 1.587937009219386\n",
      "Test accuracy :  28.57142857142857\n"
     ]
    },
    {
     "name": "stderr",
     "output_type": "stream",
     "text": [
      "INFO:root:Iteration 8\n"
     ]
    },
    {
     "name": "stdout",
     "output_type": "stream",
     "text": [
      "Train loss : 1.609453706205755\n",
      "Test accuracy :  33.33333333333333\n"
     ]
    },
    {
     "name": "stderr",
     "output_type": "stream",
     "text": [
      "INFO:root:Iteration 9\n"
     ]
    },
    {
     "name": "stdout",
     "output_type": "stream",
     "text": [
      "Train loss : 1.5571817898232003\n",
      "Test accuracy :  28.57142857142857\n"
     ]
    },
    {
     "name": "stderr",
     "output_type": "stream",
     "text": [
      "INFO:root:Iteration 10\n"
     ]
    },
    {
     "name": "stdout",
     "output_type": "stream",
     "text": [
      "Train loss : 1.542158166423512\n",
      "Test accuracy :  26.190476190476193\n"
     ]
    },
    {
     "name": "stderr",
     "output_type": "stream",
     "text": [
      "INFO:root:Iteration 11\n"
     ]
    },
    {
     "name": "stdout",
     "output_type": "stream",
     "text": [
      "Train loss : 1.52712438662271\n",
      "Test accuracy :  35.714285714285715\n"
     ]
    },
    {
     "name": "stderr",
     "output_type": "stream",
     "text": [
      "INFO:root:Iteration 12\n"
     ]
    },
    {
     "name": "stdout",
     "output_type": "stream",
     "text": [
      "Train loss : 1.5095953496469967\n",
      "Test accuracy :  26.190476190476193\n"
     ]
    },
    {
     "name": "stderr",
     "output_type": "stream",
     "text": [
      "INFO:root:Iteration 13\n"
     ]
    },
    {
     "name": "stdout",
     "output_type": "stream",
     "text": [
      "Train loss : 1.5312262449575507\n",
      "Test accuracy :  38.095238095238095\n"
     ]
    },
    {
     "name": "stderr",
     "output_type": "stream",
     "text": [
      "INFO:root:Iteration 14\n"
     ]
    },
    {
     "name": "stdout",
     "output_type": "stream",
     "text": [
      "Train loss : 1.501361796533428\n",
      "Test accuracy :  26.190476190476193\n",
      "Train loss : 1.484779944886332\n",
      "Test accuracy :  30.952380952380953\n"
     ]
    }
   ],
   "source": [
    "BATCH_SIZE = 16\n",
    "\n",
    "model = net\n",
    "optim = torch.optim.Adam(model.parameters())\n",
    "loss = torch.nn.CrossEntropyLoss()\n",
    "\n",
    "for epoch in range(15): # doing 15 epochs\n",
    "    logging.info(\"Iteration %d\", epoch)\n",
    "\n",
    "    sum_loss = 0\n",
    "    optim.zero_grad() # we reset gradients\n",
    "    for i,(x,y) in enumerate(zip(X_train,Y_train)): \n",
    "        \n",
    "        x = torch.Tensor(x).unsqueeze(0).unsqueeze(0)\n",
    "        y = torch.LongTensor([y])\n",
    "                \n",
    "        \n",
    "\n",
    "        yhat = model(x)## to complete\n",
    "        \n",
    "        yhat = yhat.squeeze(0)\n",
    "        \n",
    "        ex_loss = loss(yhat,y)## to complete\n",
    "        ex_loss.backward()\n",
    "\n",
    "\n",
    "        sum_loss += ex_loss.item()\n",
    "        \n",
    "        if i% BATCH_SIZE ==0:\n",
    "            optim.step()\n",
    "    \n",
    "    print(\"Train loss :\", sum_loss/len(X_train))\n",
    "    \n",
    "    sum_pred = 0\n",
    "    \n",
    "    for x,y in zip(X_test,Y_test): \n",
    "        \n",
    "        x = torch.Tensor(x).unsqueeze(0).unsqueeze(0)\n",
    "        y = torch.LongTensor([y])\n",
    "                \n",
    "        yhat = model(x)\n",
    "        \n",
    "        yhat = yhat.squeeze(0)\n",
    "        _,inds = torch.max(yhat,dim=-1)\n",
    "\n",
    "        if inds == y:\n",
    "            sum_pred +=1\n",
    "        \n",
    "    \n",
    "    print(\"Test accuracy : \",sum_pred/len(X_test) *100) \n",
    "    \n",
    "    \n",
    "\n"
   ]
  },
  {
   "cell_type": "markdown",
   "metadata": {},
   "source": [
    "## (TODO) Now let's try max pooling on \"channels\"\n",
    "\n",
    "=> You have to do a `torch.max` on the channel dimensions so convolutions yields same size tensors"
   ]
  },
  {
   "cell_type": "code",
   "execution_count": 83,
   "metadata": {
    "ExecuteTime": {
     "end_time": "2019-12-13T23:00:57.453848Z",
     "start_time": "2019-12-13T23:00:57.444849Z"
    }
   },
   "outputs": [],
   "source": [
    "\n",
    "class EasierNet(nn.Module):\n",
    "    def __init__(self,num_classes):\n",
    "        super(EasierNet, self).__init__()\n",
    "        self.conv1 = torch.nn.Conv1d(1,128,8)\n",
    "    \n",
    "        self.t1 = nn.Linear(128, 64)\n",
    "        self.t2 = nn.Linear(64, num_classes)\n",
    "\n",
    "    def forward(self, x):\n",
    "        \n",
    "        all_convs,_ = torch.max(self.conv1(x),dim=-1)##to complete\n",
    "        first_transform = torch.dropout(torch.relu(self.t1(all_convs)),p=0.1,train=self.training)\n",
    "        second_transform = self.t2(first_transform)\n",
    "        \n",
    "        output = second_transform \n",
    "        \n",
    "        return output\n"
   ]
  },
  {
   "cell_type": "markdown",
   "metadata": {},
   "source": [
    "### Test case"
   ]
  },
  {
   "cell_type": "code",
   "execution_count": 89,
   "metadata": {
    "ExecuteTime": {
     "end_time": "2019-12-13T23:04:52.471543Z",
     "start_time": "2019-12-13T23:04:52.464569Z"
    }
   },
   "outputs": [
    {
     "name": "stdout",
     "output_type": "stream",
     "text": [
      "tensor([[ -8.1670,   2.6025,  18.1948, -10.9893,  96.9194,  48.0193,  22.3850]],\n",
      "       grad_fn=<AddmmBackward>)\n"
     ]
    }
   ],
   "source": [
    "net2 = EasierNet(7) # We do 7 way classificationa\n",
    "\n",
    "data_point = torch.Tensor(X[0]).unsqueeze(0).unsqueeze(0)\n",
    "\n",
    "print(net2(data_point))"
   ]
  },
  {
   "cell_type": "markdown",
   "metadata": {},
   "source": [
    "## (Todo) Simple optimizing scheme : SGD\n",
    "\n",
    "### Complete the following cell. Also, the implementation here is not batched: try to add gradient batching\n"
   ]
  },
  {
   "cell_type": "code",
   "execution_count": 90,
   "metadata": {
    "ExecuteTime": {
     "end_time": "2019-12-13T23:05:03.153563Z",
     "start_time": "2019-12-13T23:04:53.132606Z"
    }
   },
   "outputs": [
    {
     "name": "stderr",
     "output_type": "stream",
     "text": [
      "INFO:root:Iteration 0\n",
      "INFO:root:Iteration 1\n"
     ]
    },
    {
     "name": "stdout",
     "output_type": "stream",
     "text": [
      "Training loss: 26.339937345296974\n",
      "Test Accuracy: 11.904761904761903\n"
     ]
    },
    {
     "name": "stderr",
     "output_type": "stream",
     "text": [
      "INFO:root:Iteration 2\n"
     ]
    },
    {
     "name": "stdout",
     "output_type": "stream",
     "text": [
      "Training loss: 1.9589556153269783\n",
      "Test Accuracy: 11.904761904761903\n"
     ]
    },
    {
     "name": "stderr",
     "output_type": "stream",
     "text": [
      "INFO:root:Iteration 3\n"
     ]
    },
    {
     "name": "stdout",
     "output_type": "stream",
     "text": [
      "Training loss: 1.94823459064327\n",
      "Test Accuracy: 11.904761904761903\n"
     ]
    },
    {
     "name": "stderr",
     "output_type": "stream",
     "text": [
      "INFO:root:Iteration 4\n"
     ]
    },
    {
     "name": "stdout",
     "output_type": "stream",
     "text": [
      "Training loss: 1.947786227516506\n",
      "Test Accuracy: 11.904761904761903\n"
     ]
    },
    {
     "name": "stderr",
     "output_type": "stream",
     "text": [
      "INFO:root:Iteration 5\n"
     ]
    },
    {
     "name": "stdout",
     "output_type": "stream",
     "text": [
      "Training loss: 1.9474758353210302\n",
      "Test Accuracy: 11.904761904761903\n"
     ]
    },
    {
     "name": "stderr",
     "output_type": "stream",
     "text": [
      "INFO:root:Iteration 6\n"
     ]
    },
    {
     "name": "stdout",
     "output_type": "stream",
     "text": [
      "Training loss: 1.947305016471568\n",
      "Test Accuracy: 16.666666666666664\n"
     ]
    },
    {
     "name": "stderr",
     "output_type": "stream",
     "text": [
      "INFO:root:Iteration 7\n"
     ]
    },
    {
     "name": "stdout",
     "output_type": "stream",
     "text": [
      "Training loss: 1.9472491807407803\n",
      "Test Accuracy: 16.666666666666664\n"
     ]
    },
    {
     "name": "stderr",
     "output_type": "stream",
     "text": [
      "INFO:root:Iteration 8\n"
     ]
    },
    {
     "name": "stdout",
     "output_type": "stream",
     "text": [
      "Training loss: 1.9472732561222021\n",
      "Test Accuracy: 16.666666666666664\n"
     ]
    },
    {
     "name": "stderr",
     "output_type": "stream",
     "text": [
      "INFO:root:Iteration 9\n"
     ]
    },
    {
     "name": "stdout",
     "output_type": "stream",
     "text": [
      "Training loss: 1.9473413131087298\n",
      "Test Accuracy: 16.666666666666664\n"
     ]
    },
    {
     "name": "stderr",
     "output_type": "stream",
     "text": [
      "INFO:root:Iteration 10\n"
     ]
    },
    {
     "name": "stdout",
     "output_type": "stream",
     "text": [
      "Training loss: 1.9474234002223914\n",
      "Test Accuracy: 14.285714285714285\n"
     ]
    },
    {
     "name": "stderr",
     "output_type": "stream",
     "text": [
      "INFO:root:Iteration 11\n"
     ]
    },
    {
     "name": "stdout",
     "output_type": "stream",
     "text": [
      "Training loss: 1.9474996610540123\n",
      "Test Accuracy: 14.285714285714285\n"
     ]
    },
    {
     "name": "stderr",
     "output_type": "stream",
     "text": [
      "INFO:root:Iteration 12\n"
     ]
    },
    {
     "name": "stdout",
     "output_type": "stream",
     "text": [
      "Training loss: 1.947560805629417\n",
      "Test Accuracy: 14.285714285714285\n"
     ]
    },
    {
     "name": "stderr",
     "output_type": "stream",
     "text": [
      "INFO:root:Iteration 13\n"
     ]
    },
    {
     "name": "stdout",
     "output_type": "stream",
     "text": [
      "Training loss: 1.9476054091960335\n",
      "Test Accuracy: 14.285714285714285\n"
     ]
    },
    {
     "name": "stderr",
     "output_type": "stream",
     "text": [
      "INFO:root:Iteration 14\n"
     ]
    },
    {
     "name": "stdout",
     "output_type": "stream",
     "text": [
      "Training loss: 1.9476360050952377\n",
      "Test Accuracy: 14.285714285714285\n",
      "Training loss: 1.9476561629829776\n",
      "Test Accuracy: 14.285714285714285\n"
     ]
    }
   ],
   "source": [
    "import torch.optim\n",
    "\n",
    "BATCH_SIZE = 16\n",
    "\n",
    "\n",
    "model = net2\n",
    "optim = torch.optim.Adam(model.parameters(),lr=0.0001)\n",
    "loss = torch.nn.CrossEntropyLoss()\n",
    "\n",
    "for epoch in range(15): # doing 15 epochs\n",
    "    logging.info(\"Iteration %d\", epoch)\n",
    "\n",
    "    sum_loss = 0\n",
    "    \n",
    "    optim.zero_grad() # we reset gradients\n",
    "    model.train() #we set model in train mode\n",
    "    for i,(x,y) in enumerate(zip(X_train,Y_train)): \n",
    "        \n",
    "        x = torch.Tensor(x).unsqueeze(0).unsqueeze(0)\n",
    "        y = torch.LongTensor([y])\n",
    "                \n",
    "\n",
    "        yhat = model(x)# To complete\n",
    "        yhat = yhat\n",
    "       \n",
    "        \n",
    "        l = loss(yhat,y)\n",
    "\n",
    "        sum_loss+=l.item()\n",
    "        l.backward()\n",
    "        \n",
    "        optim.step()\n",
    "    \n",
    "    \n",
    "    print(\"Training loss:\", sum_loss/len(X_train))\n",
    "    \n",
    "    sum_pred = 0\n",
    "    model.eval()\n",
    "    \n",
    "    for x,y in zip(X_test,Y_test): \n",
    "        \n",
    "        x = torch.Tensor(x).unsqueeze(0).unsqueeze(0)\n",
    "        y = torch.LongTensor([y])\n",
    "                \n",
    "        yhat = model(x)\n",
    "        \n",
    "        yhat = yhat.squeeze(0)\n",
    "        _,inds = torch.max(yhat,dim=-1)\n",
    "\n",
    "        if inds == y:\n",
    "            sum_pred +=1\n",
    "        \n",
    "    \n",
    "    print(\"Test Accuracy:\", sum_pred/len(X_test) *100) \n",
    "    \n",
    "    \n",
    "\n"
   ]
  },
  {
   "cell_type": "markdown",
   "metadata": {},
   "source": [
    "## Second:  Two different RNN's : One with max pooling, one without"
   ]
  },
  {
   "cell_type": "markdown",
   "metadata": {},
   "source": [
    "### (TODO) RNN: Max-pooling of all timestep\n",
    "\n",
    " => Here we want a model which does max pooling on all rnn's outputs to concatenate them in a single one"
   ]
  },
  {
   "cell_type": "code",
   "execution_count": 91,
   "metadata": {
    "ExecuteTime": {
     "end_time": "2019-12-13T23:05:35.835431Z",
     "start_time": "2019-12-13T23:05:35.828430Z"
    }
   },
   "outputs": [],
   "source": [
    "class EasyRecNet(nn.Module):\n",
    "    def __init__(self,num_classes,rnn_cell=nn.RNN):\n",
    "        super(EasyRecNet, self).__init__()\n",
    "        \n",
    "        self.rnn = rnn_cell(1,num_classes*2)    \n",
    "        self.t1 = nn.Linear(num_classes*2, num_classes)\n",
    "\n",
    "    def forward(self, x):\n",
    "        \n",
    "        seq,_ = self.rnn(x)\n",
    "        \n",
    "        pooled,_ = torch.max(seq,dim=1)## To complete\n",
    "        output = self.t1(pooled) \n",
    "        \n",
    "        return output"
   ]
  },
  {
   "cell_type": "markdown",
   "metadata": {},
   "source": [
    "##  Test case:"
   ]
  },
  {
   "cell_type": "code",
   "execution_count": 92,
   "metadata": {
    "ExecuteTime": {
     "end_time": "2019-12-13T23:05:39.057098Z",
     "start_time": "2019-12-13T23:05:39.049100Z"
    }
   },
   "outputs": [
    {
     "name": "stdout",
     "output_type": "stream",
     "text": [
      "tensor([[ 0.1113,  0.0042,  0.4445,  0.1260,  0.4665, -0.1730, -0.1361]],\n",
      "       grad_fn=<AddmmBackward>)\n"
     ]
    }
   ],
   "source": [
    "net3 = EasyRecNet(7,nn.RNN) # We do 7 way classification with a classic RNN\n",
    "\n",
    "data_point = torch.Tensor(X[0]).unsqueeze(0).unsqueeze(-1)\n",
    "\n",
    "\n",
    "print(net3(data_point))"
   ]
  },
  {
   "cell_type": "markdown",
   "metadata": {},
   "source": [
    "## (TODO) Experiment with multiple rnn cells \n",
    "#### Optimizing again:"
   ]
  },
  {
   "cell_type": "code",
   "execution_count": 93,
   "metadata": {
    "ExecuteTime": {
     "end_time": "2019-12-13T23:06:08.863428Z",
     "start_time": "2019-12-13T23:06:00.098523Z"
    },
    "scrolled": true
   },
   "outputs": [
    {
     "name": "stderr",
     "output_type": "stream",
     "text": [
      "INFO:root:Iteration 0\n",
      "INFO:root:Iteration 1\n"
     ]
    },
    {
     "name": "stdout",
     "output_type": "stream",
     "text": [
      "Training loss: 1.9713930850443633\n",
      "Test Accuracy: 14.285714285714285\n"
     ]
    },
    {
     "name": "stderr",
     "output_type": "stream",
     "text": [
      "INFO:root:Iteration 2\n"
     ]
    },
    {
     "name": "stdout",
     "output_type": "stream",
     "text": [
      "Training loss: 1.9599222419918447\n",
      "Test Accuracy: 14.285714285714285\n"
     ]
    },
    {
     "name": "stderr",
     "output_type": "stream",
     "text": [
      "INFO:root:Iteration 3\n"
     ]
    },
    {
     "name": "stdout",
     "output_type": "stream",
     "text": [
      "Training loss: 1.9511438274153188\n",
      "Test Accuracy: 14.285714285714285\n"
     ]
    },
    {
     "name": "stderr",
     "output_type": "stream",
     "text": [
      "INFO:root:Iteration 4\n"
     ]
    },
    {
     "name": "stdout",
     "output_type": "stream",
     "text": [
      "Training loss: 1.9436890131609452\n",
      "Test Accuracy: 21.428571428571427\n"
     ]
    },
    {
     "name": "stderr",
     "output_type": "stream",
     "text": [
      "INFO:root:Iteration 5\n"
     ]
    },
    {
     "name": "stdout",
     "output_type": "stream",
     "text": [
      "Training loss: 1.938399334748586\n",
      "Test Accuracy: 23.809523809523807\n"
     ]
    },
    {
     "name": "stderr",
     "output_type": "stream",
     "text": [
      "INFO:root:Iteration 6\n"
     ]
    },
    {
     "name": "stdout",
     "output_type": "stream",
     "text": [
      "Training loss: 1.9345851917773629\n",
      "Test Accuracy: 21.428571428571427\n"
     ]
    },
    {
     "name": "stderr",
     "output_type": "stream",
     "text": [
      "INFO:root:Iteration 7\n"
     ]
    },
    {
     "name": "stdout",
     "output_type": "stream",
     "text": [
      "Training loss: 1.9279683727573083\n",
      "Test Accuracy: 19.047619047619047\n"
     ]
    },
    {
     "name": "stderr",
     "output_type": "stream",
     "text": [
      "INFO:root:Iteration 8\n"
     ]
    },
    {
     "name": "stdout",
     "output_type": "stream",
     "text": [
      "Training loss: 1.918659352449979\n",
      "Test Accuracy: 21.428571428571427\n"
     ]
    },
    {
     "name": "stderr",
     "output_type": "stream",
     "text": [
      "INFO:root:Iteration 9\n"
     ]
    },
    {
     "name": "stdout",
     "output_type": "stream",
     "text": [
      "Training loss: 1.9097980756114648\n",
      "Test Accuracy: 21.428571428571427\n"
     ]
    },
    {
     "name": "stderr",
     "output_type": "stream",
     "text": [
      "INFO:root:Iteration 10\n"
     ]
    },
    {
     "name": "stdout",
     "output_type": "stream",
     "text": [
      "Training loss: 1.9041906600989005\n",
      "Test Accuracy: 16.666666666666664\n"
     ]
    },
    {
     "name": "stderr",
     "output_type": "stream",
     "text": [
      "INFO:root:Iteration 11\n"
     ]
    },
    {
     "name": "stdout",
     "output_type": "stream",
     "text": [
      "Training loss: 1.8981239239950687\n",
      "Test Accuracy: 16.666666666666664\n"
     ]
    },
    {
     "name": "stderr",
     "output_type": "stream",
     "text": [
      "INFO:root:Iteration 12\n"
     ]
    },
    {
     "name": "stdout",
     "output_type": "stream",
     "text": [
      "Training loss: 1.891973924809608\n",
      "Test Accuracy: 16.666666666666664\n"
     ]
    },
    {
     "name": "stderr",
     "output_type": "stream",
     "text": [
      "INFO:root:Iteration 13\n"
     ]
    },
    {
     "name": "stdout",
     "output_type": "stream",
     "text": [
      "Training loss: 1.8859126832750108\n",
      "Test Accuracy: 16.666666666666664\n"
     ]
    },
    {
     "name": "stderr",
     "output_type": "stream",
     "text": [
      "INFO:root:Iteration 14\n"
     ]
    },
    {
     "name": "stdout",
     "output_type": "stream",
     "text": [
      "Training loss: 1.8794916634974272\n",
      "Test Accuracy: 16.666666666666664\n",
      "Training loss: 1.876926685013057\n",
      "Test Accuracy: 16.666666666666664\n"
     ]
    }
   ],
   "source": [
    "BATCH_SIZE = 16\n",
    "\n",
    "CELL_RNN = nn.LSTM#TO complete \n",
    "\n",
    "net3 = EasyRecNet(7,CELL_RNN) # We do 7 way classification with a classic RNN\n",
    "\n",
    "\n",
    "model = net3\n",
    "optim = torch.optim.Adam(model.parameters())\n",
    "loss = torch.nn.CrossEntropyLoss()\n",
    "\n",
    "for epoch in range(15): # doing 15 epochs\n",
    "    logging.info(\"Iteration %d\", epoch)\n",
    "\n",
    "    sum_loss = 0\n",
    "    \n",
    "    optim.zero_grad() # we reset gradients\n",
    "    model.train() #we set model in train mode\n",
    "    for i,(x,y) in enumerate(zip(X_train,Y_train)): \n",
    "        \n",
    "        x = torch.Tensor(x).unsqueeze(0).unsqueeze(-1)\n",
    "        y = torch.LongTensor([y])\n",
    "                \n",
    "\n",
    "        yhat = model(x) \n",
    "        yhat = yhat\n",
    "       \n",
    "        l = loss(yhat,y)\n",
    "\n",
    "        sum_loss+=l.item()\n",
    "        l.backward()\n",
    "        \n",
    "        if i % BATCH_SIZE == 0: \n",
    "            optim.step()\n",
    "    \n",
    "    \n",
    "    print(\"Training loss:\", sum_loss/len(X_train))\n",
    "    \n",
    "    sum_pred = 0\n",
    "    model.eval()\n",
    "    \n",
    "    for x,y in zip(X_test,Y_test): \n",
    "        \n",
    "        x = torch.Tensor(x).unsqueeze(0).unsqueeze(-1)\n",
    "        y = torch.LongTensor([y])\n",
    "                \n",
    "        yhat = model(x)\n",
    "        \n",
    "        yhat = yhat.squeeze(0)\n",
    "        _,inds = torch.max(yhat,dim=-1)\n",
    "\n",
    "        if inds == y:\n",
    "            sum_pred +=1\n",
    "        \n",
    "    \n",
    "    print(\"Test Accuracy:\", sum_pred/len(X_test) *100) \n",
    "    "
   ]
  },
  {
   "cell_type": "markdown",
   "metadata": {},
   "source": [
    "### (TODO) : RNN: Taking the final output as a sequence aggregate\n",
    "\n",
    " => Try to Select the right output"
   ]
  },
  {
   "cell_type": "code",
   "execution_count": 94,
   "metadata": {
    "ExecuteTime": {
     "end_time": "2019-12-13T23:07:21.176159Z",
     "start_time": "2019-12-13T23:07:21.171157Z"
    }
   },
   "outputs": [],
   "source": [
    "class EasierRecNet(nn.Module):\n",
    "    def __init__(self,num_classes,rnn_cell=nn.RNN):\n",
    "        super(EasierRecNet, self).__init__()\n",
    "        \n",
    "        self.rnn = rnn_cell(1,num_classes*2)    \n",
    "        self.t1 = nn.Linear(num_classes*2, num_classes)\n",
    "\n",
    "    def forward(self, x):\n",
    "        \n",
    "        seq,_ = self.rnn(x)\n",
    "        \n",
    "        final_rnn_output = seq[:,-1,:]# to complete\n",
    "        output = self.t1(final_rnn_output) \n",
    "        \n",
    "        return output"
   ]
  },
  {
   "cell_type": "markdown",
   "metadata": {},
   "source": [
    "### A Test case:"
   ]
  },
  {
   "cell_type": "code",
   "execution_count": 95,
   "metadata": {
    "ExecuteTime": {
     "end_time": "2019-12-13T23:07:25.620246Z",
     "start_time": "2019-12-13T23:07:25.612210Z"
    }
   },
   "outputs": [
    {
     "name": "stdout",
     "output_type": "stream",
     "text": [
      "tensor([[-0.7651,  0.3419, -0.2081,  0.4012, -1.2053,  0.4203,  0.5294]],\n",
      "       grad_fn=<AddmmBackward>)\n"
     ]
    }
   ],
   "source": [
    "net4 = EasierRecNet(7,nn.RNN) # We do 7 way classification with a classic RNN\n",
    "\n",
    "data_point = torch.Tensor(X[0]).unsqueeze(0).unsqueeze(-1)\n",
    "\n",
    "\n",
    "print(net4(data_point))"
   ]
  },
  {
   "cell_type": "markdown",
   "metadata": {},
   "source": [
    "### (TODO) The optimization routine\n",
    "\n",
    "=> once again choose whatever rnn you'd like"
   ]
  },
  {
   "cell_type": "code",
   "execution_count": 96,
   "metadata": {
    "ExecuteTime": {
     "end_time": "2019-12-13T23:07:50.385421Z",
     "start_time": "2019-12-13T23:07:42.695116Z"
    },
    "scrolled": true
   },
   "outputs": [
    {
     "name": "stderr",
     "output_type": "stream",
     "text": [
      "INFO:root:Iteration 0\n",
      "INFO:root:Iteration 1\n"
     ]
    },
    {
     "name": "stdout",
     "output_type": "stream",
     "text": [
      "Training loss: 1.9690612508478949\n",
      "Test Accuracy: 21.428571428571427\n"
     ]
    },
    {
     "name": "stderr",
     "output_type": "stream",
     "text": [
      "INFO:root:Iteration 2\n"
     ]
    },
    {
     "name": "stdout",
     "output_type": "stream",
     "text": [
      "Training loss: 1.9573452864292162\n",
      "Test Accuracy: 21.428571428571427\n"
     ]
    },
    {
     "name": "stderr",
     "output_type": "stream",
     "text": [
      "INFO:root:Iteration 3\n"
     ]
    },
    {
     "name": "stdout",
     "output_type": "stream",
     "text": [
      "Training loss: 1.9510541834693025\n",
      "Test Accuracy: 21.428571428571427\n"
     ]
    },
    {
     "name": "stderr",
     "output_type": "stream",
     "text": [
      "INFO:root:Iteration 4\n"
     ]
    },
    {
     "name": "stdout",
     "output_type": "stream",
     "text": [
      "Training loss: 1.9463157650929142\n",
      "Test Accuracy: 21.428571428571427\n"
     ]
    },
    {
     "name": "stderr",
     "output_type": "stream",
     "text": [
      "INFO:root:Iteration 5\n"
     ]
    },
    {
     "name": "stdout",
     "output_type": "stream",
     "text": [
      "Training loss: 1.9394943144010461\n",
      "Test Accuracy: 19.047619047619047\n"
     ]
    },
    {
     "name": "stderr",
     "output_type": "stream",
     "text": [
      "INFO:root:Iteration 6\n"
     ]
    },
    {
     "name": "stdout",
     "output_type": "stream",
     "text": [
      "Training loss: 1.932447450172498\n",
      "Test Accuracy: 19.047619047619047\n"
     ]
    },
    {
     "name": "stderr",
     "output_type": "stream",
     "text": [
      "INFO:root:Iteration 7\n"
     ]
    },
    {
     "name": "stdout",
     "output_type": "stream",
     "text": [
      "Training loss: 1.9261521023252737\n",
      "Test Accuracy: 19.047619047619047\n"
     ]
    },
    {
     "name": "stderr",
     "output_type": "stream",
     "text": [
      "INFO:root:Iteration 8\n"
     ]
    },
    {
     "name": "stdout",
     "output_type": "stream",
     "text": [
      "Training loss: 1.9186058721104682\n",
      "Test Accuracy: 19.047619047619047\n"
     ]
    },
    {
     "name": "stderr",
     "output_type": "stream",
     "text": [
      "INFO:root:Iteration 9\n"
     ]
    },
    {
     "name": "stdout",
     "output_type": "stream",
     "text": [
      "Training loss: 1.909522465461694\n",
      "Test Accuracy: 21.428571428571427\n"
     ]
    },
    {
     "name": "stderr",
     "output_type": "stream",
     "text": [
      "INFO:root:Iteration 10\n"
     ]
    },
    {
     "name": "stdout",
     "output_type": "stream",
     "text": [
      "Training loss: 1.9017430379770803\n",
      "Test Accuracy: 21.428571428571427\n"
     ]
    },
    {
     "name": "stderr",
     "output_type": "stream",
     "text": [
      "INFO:root:Iteration 11\n"
     ]
    },
    {
     "name": "stdout",
     "output_type": "stream",
     "text": [
      "Training loss: 1.8990088119598978\n",
      "Test Accuracy: 19.047619047619047\n"
     ]
    },
    {
     "name": "stderr",
     "output_type": "stream",
     "text": [
      "INFO:root:Iteration 12\n"
     ]
    },
    {
     "name": "stdout",
     "output_type": "stream",
     "text": [
      "Training loss: 1.8931471783181895\n",
      "Test Accuracy: 11.904761904761903\n"
     ]
    },
    {
     "name": "stderr",
     "output_type": "stream",
     "text": [
      "INFO:root:Iteration 13\n"
     ]
    },
    {
     "name": "stdout",
     "output_type": "stream",
     "text": [
      "Training loss: 1.894536482827099\n",
      "Test Accuracy: 16.666666666666664\n"
     ]
    },
    {
     "name": "stderr",
     "output_type": "stream",
     "text": [
      "INFO:root:Iteration 14\n"
     ]
    },
    {
     "name": "stdout",
     "output_type": "stream",
     "text": [
      "Training loss: 1.8881498860276265\n",
      "Test Accuracy: 26.190476190476193\n",
      "Training loss: 1.8949098264537572\n",
      "Test Accuracy: 21.428571428571427\n"
     ]
    }
   ],
   "source": [
    "BATCH_SIZE = 16\n",
    "\n",
    "CELL_RNN =  nn.LSTM#TO complete\n",
    "\n",
    "net4 = EasierRecNet(7,CELL_RNN) # We do 7 way classification with a classic RNN\n",
    "\n",
    "\n",
    "model = net4\n",
    "optim = torch.optim.Adam(model.parameters())\n",
    "loss = torch.nn.CrossEntropyLoss()\n",
    "\n",
    "for epoch in range(15): # doing 15 epochs\n",
    "    logging.info(\"Iteration %d\", epoch)\n",
    "\n",
    "    sum_loss = 0\n",
    "    \n",
    "    optim.zero_grad() # we reset gradients\n",
    "    model.train() #we set model in train mode\n",
    "    for i,(x,y) in enumerate(zip(X_train,Y_train)): \n",
    "        \n",
    "        x = torch.Tensor(x).unsqueeze(0).unsqueeze(-1)\n",
    "        y = torch.LongTensor([y])\n",
    "                \n",
    "\n",
    "        yhat = model(x)\n",
    "        yhat = yhat\n",
    "       \n",
    "        l = loss(yhat,y)\n",
    "\n",
    "        sum_loss+=l.item()\n",
    "        l.backward()\n",
    "        \n",
    "        if i % BATCH_SIZE == 0: \n",
    "            optim.step()\n",
    "    \n",
    "    \n",
    "    print(\"Training loss:\", sum_loss/len(X_train))\n",
    "    \n",
    "    sum_pred = 0\n",
    "    model.eval()\n",
    "    \n",
    "    for x,y in zip(X_test,Y_test): \n",
    "        \n",
    "        x = torch.Tensor(x).unsqueeze(0).unsqueeze(-1)\n",
    "        y = torch.LongTensor([y])\n",
    "                \n",
    "        yhat = model(x)\n",
    "        \n",
    "        yhat = yhat.squeeze(0)\n",
    "        _,inds = torch.max(yhat,dim=-1)\n",
    "\n",
    "        if inds == y:\n",
    "            sum_pred +=1\n",
    "        \n",
    "    \n",
    "    print(\"Test Accuracy:\", sum_pred/len(X_test) *100) \n",
    "    "
   ]
  },
  {
   "cell_type": "markdown",
   "metadata": {},
   "source": [
    "## => Take some time to ponder on how dimensions interacts and how different RNNs work"
   ]
  },
  {
   "cell_type": "markdown",
   "metadata": {},
   "source": [
    "# (C) RNNs forecasting : temperature prediciton\n",
    "\n",
    "### Now, we propose to do a little temperature forecast exercise, using rnn's.\n",
    "\n",
    "### Our task is the following: given a series of $t$ temperatures, the goal is to predict the next temperatures $t+1, t+2, t+...$"
   ]
  },
  {
   "cell_type": "code",
   "execution_count": 97,
   "metadata": {
    "ExecuteTime": {
     "end_time": "2019-12-13T23:07:59.546195Z",
     "start_time": "2019-12-13T23:07:59.541195Z"
    }
   },
   "outputs": [],
   "source": [
    "import torch\n",
    "import torch.nn as nn\n",
    "import torch.optim\n",
    "from torch.utils.data import Dataset,DataLoader\n",
    "import csv\n",
    "import pandas as pd\n",
    "import numpy as np\n",
    "\n",
    "import time\n",
    "import unicodedata\n",
    "import string\n",
    "from itertools import chain\n"
   ]
  },
  {
   "cell_type": "markdown",
   "metadata": {},
   "source": [
    "## A quick glance at the dataset"
   ]
  },
  {
   "cell_type": "code",
   "execution_count": 98,
   "metadata": {
    "ExecuteTime": {
     "end_time": "2019-12-13T23:08:02.217882Z",
     "start_time": "2019-12-13T23:08:00.406016Z"
    }
   },
   "outputs": [
    {
     "data": {
      "text/html": [
       "<div>\n",
       "<style scoped>\n",
       "    .dataframe tbody tr th:only-of-type {\n",
       "        vertical-align: middle;\n",
       "    }\n",
       "\n",
       "    .dataframe tbody tr th {\n",
       "        vertical-align: top;\n",
       "    }\n",
       "\n",
       "    .dataframe thead th {\n",
       "        text-align: right;\n",
       "    }\n",
       "</style>\n",
       "<table border=\"1\" class=\"dataframe\">\n",
       "  <thead>\n",
       "    <tr style=\"text-align: right;\">\n",
       "      <th></th>\n",
       "      <th>datetime</th>\n",
       "      <th>Vancouver</th>\n",
       "      <th>Portland</th>\n",
       "      <th>San Francisco</th>\n",
       "      <th>Seattle</th>\n",
       "      <th>Los Angeles</th>\n",
       "      <th>San Diego</th>\n",
       "      <th>Las Vegas</th>\n",
       "      <th>Phoenix</th>\n",
       "      <th>Albuquerque</th>\n",
       "      <th>...</th>\n",
       "      <th>Detroit</th>\n",
       "      <th>Jacksonville</th>\n",
       "      <th>Charlotte</th>\n",
       "      <th>Miami</th>\n",
       "      <th>Pittsburgh</th>\n",
       "      <th>Toronto</th>\n",
       "      <th>Philadelphia</th>\n",
       "      <th>New York</th>\n",
       "      <th>Montreal</th>\n",
       "      <th>Boston</th>\n",
       "    </tr>\n",
       "  </thead>\n",
       "  <tbody>\n",
       "    <tr>\n",
       "      <th>0</th>\n",
       "      <td>2012-10-01 13:00:00</td>\n",
       "      <td>284.630000</td>\n",
       "      <td>282.080000</td>\n",
       "      <td>289.480000</td>\n",
       "      <td>281.800000</td>\n",
       "      <td>291.870000</td>\n",
       "      <td>291.530000</td>\n",
       "      <td>293.410000</td>\n",
       "      <td>296.600000</td>\n",
       "      <td>285.120000</td>\n",
       "      <td>...</td>\n",
       "      <td>284.030000</td>\n",
       "      <td>298.170000</td>\n",
       "      <td>288.650000</td>\n",
       "      <td>299.720000</td>\n",
       "      <td>281.000000</td>\n",
       "      <td>286.260000</td>\n",
       "      <td>285.630000</td>\n",
       "      <td>288.220000</td>\n",
       "      <td>285.830000</td>\n",
       "      <td>287.170000</td>\n",
       "    </tr>\n",
       "    <tr>\n",
       "      <th>1</th>\n",
       "      <td>2012-10-01 14:00:00</td>\n",
       "      <td>284.629041</td>\n",
       "      <td>282.083252</td>\n",
       "      <td>289.474993</td>\n",
       "      <td>281.797217</td>\n",
       "      <td>291.868186</td>\n",
       "      <td>291.533501</td>\n",
       "      <td>293.403141</td>\n",
       "      <td>296.608509</td>\n",
       "      <td>285.154558</td>\n",
       "      <td>...</td>\n",
       "      <td>284.069789</td>\n",
       "      <td>298.205230</td>\n",
       "      <td>288.650172</td>\n",
       "      <td>299.732518</td>\n",
       "      <td>281.024767</td>\n",
       "      <td>286.262541</td>\n",
       "      <td>285.663208</td>\n",
       "      <td>288.247676</td>\n",
       "      <td>285.834650</td>\n",
       "      <td>287.186092</td>\n",
       "    </tr>\n",
       "    <tr>\n",
       "      <th>2</th>\n",
       "      <td>2012-10-01 15:00:00</td>\n",
       "      <td>284.626998</td>\n",
       "      <td>282.091866</td>\n",
       "      <td>289.460618</td>\n",
       "      <td>281.789833</td>\n",
       "      <td>291.862844</td>\n",
       "      <td>291.543355</td>\n",
       "      <td>293.392177</td>\n",
       "      <td>296.631487</td>\n",
       "      <td>285.233952</td>\n",
       "      <td>...</td>\n",
       "      <td>284.173965</td>\n",
       "      <td>298.299595</td>\n",
       "      <td>288.650582</td>\n",
       "      <td>299.766579</td>\n",
       "      <td>281.088319</td>\n",
       "      <td>286.269518</td>\n",
       "      <td>285.756824</td>\n",
       "      <td>288.326940</td>\n",
       "      <td>285.847790</td>\n",
       "      <td>287.231672</td>\n",
       "    </tr>\n",
       "    <tr>\n",
       "      <th>3</th>\n",
       "      <td>2012-10-01 16:00:00</td>\n",
       "      <td>284.624955</td>\n",
       "      <td>282.100481</td>\n",
       "      <td>289.446243</td>\n",
       "      <td>281.782449</td>\n",
       "      <td>291.857503</td>\n",
       "      <td>291.553209</td>\n",
       "      <td>293.381213</td>\n",
       "      <td>296.654466</td>\n",
       "      <td>285.313345</td>\n",
       "      <td>...</td>\n",
       "      <td>284.278140</td>\n",
       "      <td>298.393961</td>\n",
       "      <td>288.650991</td>\n",
       "      <td>299.800641</td>\n",
       "      <td>281.151870</td>\n",
       "      <td>286.276496</td>\n",
       "      <td>285.850440</td>\n",
       "      <td>288.406203</td>\n",
       "      <td>285.860929</td>\n",
       "      <td>287.277251</td>\n",
       "    </tr>\n",
       "    <tr>\n",
       "      <th>4</th>\n",
       "      <td>2012-10-01 17:00:00</td>\n",
       "      <td>284.622911</td>\n",
       "      <td>282.109095</td>\n",
       "      <td>289.431869</td>\n",
       "      <td>281.775065</td>\n",
       "      <td>291.852162</td>\n",
       "      <td>291.563063</td>\n",
       "      <td>293.370249</td>\n",
       "      <td>296.677445</td>\n",
       "      <td>285.392738</td>\n",
       "      <td>...</td>\n",
       "      <td>284.382316</td>\n",
       "      <td>298.488326</td>\n",
       "      <td>288.651401</td>\n",
       "      <td>299.834703</td>\n",
       "      <td>281.215421</td>\n",
       "      <td>286.283473</td>\n",
       "      <td>285.944057</td>\n",
       "      <td>288.485467</td>\n",
       "      <td>285.874069</td>\n",
       "      <td>287.322831</td>\n",
       "    </tr>\n",
       "  </tbody>\n",
       "</table>\n",
       "<p>5 rows × 31 columns</p>\n",
       "</div>"
      ],
      "text/plain": [
       "              datetime   Vancouver    Portland  San Francisco     Seattle  \\\n",
       "0  2012-10-01 13:00:00  284.630000  282.080000     289.480000  281.800000   \n",
       "1  2012-10-01 14:00:00  284.629041  282.083252     289.474993  281.797217   \n",
       "2  2012-10-01 15:00:00  284.626998  282.091866     289.460618  281.789833   \n",
       "3  2012-10-01 16:00:00  284.624955  282.100481     289.446243  281.782449   \n",
       "4  2012-10-01 17:00:00  284.622911  282.109095     289.431869  281.775065   \n",
       "\n",
       "   Los Angeles   San Diego   Las Vegas     Phoenix  Albuquerque  ...  \\\n",
       "0   291.870000  291.530000  293.410000  296.600000   285.120000  ...   \n",
       "1   291.868186  291.533501  293.403141  296.608509   285.154558  ...   \n",
       "2   291.862844  291.543355  293.392177  296.631487   285.233952  ...   \n",
       "3   291.857503  291.553209  293.381213  296.654466   285.313345  ...   \n",
       "4   291.852162  291.563063  293.370249  296.677445   285.392738  ...   \n",
       "\n",
       "      Detroit  Jacksonville   Charlotte       Miami  Pittsburgh     Toronto  \\\n",
       "0  284.030000    298.170000  288.650000  299.720000  281.000000  286.260000   \n",
       "1  284.069789    298.205230  288.650172  299.732518  281.024767  286.262541   \n",
       "2  284.173965    298.299595  288.650582  299.766579  281.088319  286.269518   \n",
       "3  284.278140    298.393961  288.650991  299.800641  281.151870  286.276496   \n",
       "4  284.382316    298.488326  288.651401  299.834703  281.215421  286.283473   \n",
       "\n",
       "   Philadelphia    New York    Montreal      Boston  \n",
       "0    285.630000  288.220000  285.830000  287.170000  \n",
       "1    285.663208  288.247676  285.834650  287.186092  \n",
       "2    285.756824  288.326940  285.847790  287.231672  \n",
       "3    285.850440  288.406203  285.860929  287.277251  \n",
       "4    285.944057  288.485467  285.874069  287.322831  \n",
       "\n",
       "[5 rows x 31 columns]"
      ]
     },
     "execution_count": 98,
     "metadata": {},
     "output_type": "execute_result"
    }
   ],
   "source": [
    "TEMP_DATA = pd.read_csv(\"https://raw.githubusercontent.com/cedias/csvdata/master/tempAMAL_train.csv\")\n",
    "TEMP_DATA.head()"
   ]
  },
  {
   "cell_type": "markdown",
   "metadata": {},
   "source": [
    "# Helper functions"
   ]
  },
  {
   "cell_type": "code",
   "execution_count": 99,
   "metadata": {
    "ExecuteTime": {
     "end_time": "2019-12-13T23:08:03.841092Z",
     "start_time": "2019-12-13T23:08:03.834065Z"
    }
   },
   "outputs": [],
   "source": [
    "def fill_na(mat):\n",
    "    ix,iy = np.where(np.isnan(mat))\n",
    "    for i,j in zip(ix,iy):\n",
    "        if np.isnan(mat[i+1,j]):\n",
    "            mat[i,j]=mat[i-1,j]\n",
    "        else:\n",
    "            mat[i,j]=(mat[i-1,j]+mat[i+1,j])/2.\n",
    "    return mat\n",
    "\n",
    "\n",
    "def read_temps():\n",
    "    \"\"\"\n",
    "    returns a tensor of temperature with mean interpolation for missing data\n",
    "    \"\"\"\n",
    "    return torch.tensor(fill_na(np.array(TEMP_DATA.iloc[:,1:])),dtype=torch.float)"
   ]
  },
  {
   "cell_type": "code",
   "execution_count": 100,
   "metadata": {
    "ExecuteTime": {
     "end_time": "2019-12-13T23:08:04.810176Z",
     "start_time": "2019-12-13T23:08:04.430091Z"
    }
   },
   "outputs": [],
   "source": [
    "#Checking if you have cuda enabled\n",
    "device = torch.device(\"cuda\" if torch.cuda.is_available() else \"cpu\")"
   ]
  },
  {
   "cell_type": "markdown",
   "metadata": {},
   "source": [
    "## The Forecast Dataset\n",
    "\n",
    "We create a dataset class to iterate on temperature data"
   ]
  },
  {
   "cell_type": "code",
   "execution_count": 101,
   "metadata": {
    "ExecuteTime": {
     "end_time": "2019-12-13T23:08:08.049180Z",
     "start_time": "2019-12-13T23:08:08.040212Z"
    }
   },
   "outputs": [],
   "source": [
    "class ForecastTempDataset(Dataset):\n",
    "    \n",
    "    MAX,MIN = 330.,230.\n",
    "    \n",
    "    def __init__(self, x,length=20,nb=10000,test=False):\n",
    "        self.data,self.length,self.nb = (x-self.MIN)/(self.MAX-self.MIN) ,length,nb\n",
    "        self.size, self.classes = x.shape\n",
    "        self.indexes = [0]\n",
    "        self.nb_samples = 0\n",
    "        if (test):\n",
    "            self.indexes = np.arange(0,self.size,self.length)\n",
    "            self.nb_samples = len(self.indexes)-1\n",
    "\n",
    "\n",
    "    def __len__(self):\n",
    "        if self.nb_samples:\n",
    "            return self.nb_samples\n",
    "        return self.nb\n",
    "    \n",
    "    def __getitem__(self,i):\n",
    "        \"\"\" length X dim \"\"\"\n",
    "        if self.nb_samples:\n",
    "            return self.data[self.indexes[i]:self.indexes[i+1]-1,:],self.data[self.indexes[i]+1:self.indexes[i+1]]\n",
    "        \n",
    "        id = np.random.randint(self.size-self.length)\n",
    "        \n",
    "        return self.data[id:(id+self.length-1),:],self.data[id+1:(id+self.length)]"
   ]
  },
  {
   "cell_type": "markdown",
   "metadata": {},
   "source": [
    "## The actual recurrent model (Vanilla version of a `nn.RNNCell`)\n",
    "\n",
    "Recall that Recurrent neural networks (RNNs) are neural nets that can deal with sequences of variable length (unlike feedforward nets). They are able to this by defining a recurrence relation over timesteps which is typically the following formula: \n",
    "\n",
    "### $$ S_{k} = f(S_{k-1} \\cdot W_{rec} + X_k \\cdot W_x) $$\n",
    "\n",
    "Where $S_k$ is the state at time k, $X_k$ an exogenous input at time k, $W_rec$ and $W_x$ are parameters like the weights parameters in feedforward nets. Note that the RNN can be viewed as a state model with a feedback loop . The state evolves over time due to the recurrence relation, and the feedback is fed back into the state with a delay of one timestep. This delayed feedback loop gives the model memory because it can remember information between timesteps in the states.\n",
    "The final output of the network $Y_k$ at a certain timestep k is typically computed from one or more states $S_{k−i}...S_{k+j}$.\n",
    "\n",
    "**Note that we can either compute the current state $S_k$ from the current input $X_k$ and previous state $S_{k−1}$, or predict the next state from $S_{k+1}$ from the current state $S_k$ and current input $X_k$. The difference of notation has not much effect on our model and depends on the task at hand. **"
   ]
  },
  {
   "cell_type": "code",
   "execution_count": 102,
   "metadata": {
    "ExecuteTime": {
     "end_time": "2019-12-13T23:08:16.914536Z",
     "start_time": "2019-12-13T23:08:16.904488Z"
    }
   },
   "outputs": [],
   "source": [
    "class RNN(nn.Module):\n",
    "    \n",
    "    def __init__(self, inputdim,latentdim):\n",
    "        super(RNN,self).__init__()\n",
    "        \n",
    "        self.inputdim , self.latentdim = inputdim,latentdim\n",
    "        self.encoder = nn.Linear(inputdim,latentdim)\n",
    "        self.latent = nn.Linear(latentdim,latentdim)\n",
    "        \n",
    "    def forward(self,x,h=None):\n",
    "        \"\"\" x: length x batch x dim \"\"\"\n",
    "        hseq = []\n",
    "        \n",
    "        if h is None:\n",
    "            h = self.hzero(x.shape[1]).to(x.device)\n",
    "            \n",
    "        for i in range(x.shape[0]):\n",
    "            h = self.one_step(x[i],h)\n",
    "            hseq.append(h)\n",
    "            \n",
    "        return torch.stack(hseq)\n",
    "    \n",
    "    def one_step(self,x,h):\n",
    "        return  torch.tanh(self.encode(x)+self.latent(h))\n",
    "    \n",
    "    def encode(self,x):\n",
    "        return self.encoder(x.view(-1,self.inputdim))\n",
    "    \n",
    "    def hzero(self,batch_size):\n",
    "        return torch.zeros(batch_size,self.latentdim)\n"
   ]
  },
  {
   "cell_type": "markdown",
   "metadata": {},
   "source": [
    "## The forecasting function"
   ]
  },
  {
   "cell_type": "code",
   "execution_count": 103,
   "metadata": {
    "ExecuteTime": {
     "end_time": "2019-12-13T23:08:17.712182Z",
     "start_time": "2019-12-13T23:08:17.705187Z"
    }
   },
   "outputs": [],
   "source": [
    "def forecast(rnn,decoder,x,h=None,length=10):\n",
    "    \n",
    "    with torch.no_grad():    \n",
    "        if h is None:\n",
    "            h = rnn.hzero(x.shape[1]).to(x.device)\n",
    "            \n",
    "        h = rnn.forward(x,h)[-1]\n",
    "        x = decoder.forward(h)\n",
    "        yhat = [x]\n",
    "        \n",
    "        for i in range(length-1):\n",
    "            x = decoder.forward(rnn.one_step(x,h))\n",
    "            yhat.append(x)\n",
    "            \n",
    "    return torch.stack(yhat)"
   ]
  },
  {
   "cell_type": "markdown",
   "metadata": {},
   "source": [
    "###  Here we wrap the optimization function so you can experiment with parameters\n",
    "\n",
    "- EPOCHS : Number of epochs\n",
    "- BATCH_SIZE : Batch size \n",
    "- LATENT : Size of the latent space learnt by the RNN\n",
    "- LENGTH : Size of the forecasting set while training\n",
    "- LENGTH_FC : Size of the test forecast"
   ]
  },
  {
   "cell_type": "code",
   "execution_count": 124,
   "metadata": {
    "ExecuteTime": {
     "end_time": "2019-12-13T23:28:29.790092Z",
     "start_time": "2019-12-13T23:28:29.704100Z"
    }
   },
   "outputs": [],
   "source": [
    "def training(EPOCHS = 100, BATCH_SIZE = 32,LATENT = 10,LENGTH= 100,LENGTH_FC = 30):\n",
    "    \n",
    "    data_temp = read_temps()\n",
    "    \n",
    "    id_split = int(data_temp.shape[0]*0.8)\n",
    "    \n",
    "    data_train = DataLoader(ForecastTempDataset(data_temp[:id_split,:],length=LENGTH),batch_size=BATCH_SIZE,shuffle=True)\n",
    "    data_test = DataLoader(ForecastTempDataset(data_temp[id_split:,:],test=True,length=LENGTH),batch_size=BATCH_SIZE,shuffle=False)\n",
    "\n",
    "    rnn = RNN(data_temp.shape[1],LATENT)\n",
    "    \n",
    "    decoder = nn.Linear(LATENT,data_temp.shape[1])\n",
    "    \n",
    "    loss = torch.nn.MSELoss()\n",
    "    \n",
    "    optim = torch.optim.Adam(chain(rnn.parameters(),decoder.parameters()),lr=0.0001)\n",
    "\n",
    "    rnn = rnn.to(device)\n",
    "    decoder = decoder.to(device)\n",
    "\n",
    "    for epoch in range(EPOCHS):\n",
    "        \n",
    "        logging.info(\"Iteration %d\", epoch)\n",
    "        suml = 0\n",
    "        err = 0\n",
    "        \n",
    "        for x,y in data_train: \n",
    "            l=0\n",
    "            \n",
    "            optim.zero_grad()\n",
    "            x = x.to(device)\n",
    "            y = y.to(device)\n",
    "            h = rnn.forward(x.transpose(0,1))\n",
    "            yhat = decoder.forward(h.view(-1,LATENT)).view(x.size(1),x.size(0),data_temp.size(1))\n",
    "\n",
    "            l += loss(yhat,y.transpose(0,1))\n",
    "            \n",
    "            suml += l/len(data_train)\n",
    "            l.backward()\n",
    "            optim.step()\n",
    "            \n",
    "        logging.info(\"loss train : %f\",suml)\n",
    "\n",
    "        with torch.no_grad():\n",
    "            \n",
    "            l = 0\n",
    "            lf = 0\n",
    "            \n",
    "            for x,y in data_test:\n",
    "                x = x.to(device)\n",
    "                h = rnn.forward(x.transpose(0,1))\n",
    "                y = y.to(device)\n",
    "                yhat = decoder.forward(h.view(-1,LATENT)).view(x.size(1),x.size(0),data_temp.size(1))\n",
    "                l += loss(yhat,y.transpose(0,1))/len(data_test)\n",
    "                \n",
    "                ## ALL THE FORECAST happens here\n",
    "                yhat = forecast(rnn,decoder,x.transpose(0,1)[:-LENGTH_FC],length=LENGTH_FC)\n",
    "                \n",
    "                lf += loss(yhat,y.transpose(0,1)[-LENGTH_FC:])/len(data_test)\n",
    "                \n",
    "            logging.info(\"loss test : %f\",l)\n",
    "            logging.info(\"loss test forecast : %f\",lf)\n",
    "\n",
    "    return rnn\n"
   ]
  },
  {
   "cell_type": "markdown",
   "metadata": {},
   "source": [
    "## (TODO) experiment with different variables\n",
    "\n",
    "- What happens when you learn with less then what you predict\n",
    "- On the contrary, what happens if you learn with more\n",
    "- Does the Latent size really makes the performances better ?"
   ]
  },
  {
   "cell_type": "code",
   "execution_count": 126,
   "metadata": {
    "ExecuteTime": {
     "end_time": "2019-12-13T23:41:11.013695Z",
     "start_time": "2019-12-13T23:35:10.919393Z"
    }
   },
   "outputs": [
    {
     "name": "stderr",
     "output_type": "stream",
     "text": [
      "INFO:root:Iteration 0\n",
      "INFO:root:loss train : 0.235312\n",
      "INFO:root:loss test : 0.109656\n",
      "INFO:root:loss test forecast : 0.161202\n",
      "INFO:root:Iteration 1\n",
      "INFO:root:loss train : 0.084452\n",
      "INFO:root:loss test : 0.036228\n",
      "INFO:root:loss test forecast : 0.040207\n",
      "INFO:root:Iteration 2\n",
      "INFO:root:loss train : 0.028341\n",
      "INFO:root:loss test : 0.013475\n",
      "INFO:root:loss test forecast : 0.014859\n",
      "INFO:root:Iteration 3\n",
      "INFO:root:loss train : 0.010558\n",
      "INFO:root:loss test : 0.007121\n",
      "INFO:root:loss test forecast : 0.009638\n",
      "INFO:root:Iteration 4\n",
      "INFO:root:loss train : 0.005992\n",
      "INFO:root:loss test : 0.006049\n",
      "INFO:root:loss test forecast : 0.009210\n",
      "INFO:root:Iteration 5\n",
      "INFO:root:loss train : 0.005027\n",
      "INFO:root:loss test : 0.005834\n",
      "INFO:root:loss test forecast : 0.009496\n",
      "INFO:root:Iteration 6\n",
      "INFO:root:loss train : 0.004609\n",
      "INFO:root:loss test : 0.005316\n",
      "INFO:root:loss test forecast : 0.008968\n",
      "INFO:root:Iteration 7\n",
      "INFO:root:loss train : 0.004232\n",
      "INFO:root:loss test : 0.005162\n",
      "INFO:root:loss test forecast : 0.008926\n",
      "INFO:root:Iteration 8\n",
      "INFO:root:loss train : 0.003888\n",
      "INFO:root:loss test : 0.004979\n",
      "INFO:root:loss test forecast : 0.008985\n",
      "INFO:root:Iteration 9\n",
      "INFO:root:loss train : 0.003630\n",
      "INFO:root:loss test : 0.004650\n",
      "INFO:root:loss test forecast : 0.008160\n"
     ]
    },
    {
     "data": {
      "text/plain": [
       "RNN(\n",
       "  (encoder): Linear(in_features=30, out_features=10, bias=True)\n",
       "  (latent): Linear(in_features=10, out_features=10, bias=True)\n",
       ")"
      ]
     },
     "execution_count": 126,
     "metadata": {},
     "output_type": "execute_result"
    }
   ],
   "source": [
    "training(EPOCHS = 10, BATCH_SIZE = 32,LATENT = 10,LENGTH= 100,LENGTH_FC = 30)"
   ]
  },
  {
   "cell_type": "code",
   "execution_count": null,
   "metadata": {},
   "outputs": [],
   "source": []
  }
 ],
 "metadata": {
  "hide_input": false,
  "kernelspec": {
   "display_name": "Python 3",
   "language": "python",
   "name": "python3"
  },
  "language_info": {
   "codemirror_mode": {
    "name": "ipython",
    "version": 3
   },
   "file_extension": ".py",
   "mimetype": "text/x-python",
   "name": "python",
   "nbconvert_exporter": "python",
   "pygments_lexer": "ipython3",
   "version": "3.7.5"
  },
  "toc": {
   "base_numbering": 1,
   "nav_menu": {},
   "number_sections": true,
   "sideBar": true,
   "skip_h1_title": false,
   "title_cell": "Table of Contents",
   "title_sidebar": "Contents",
   "toc_cell": false,
   "toc_position": {},
   "toc_section_display": true,
   "toc_window_display": false
  },
  "varInspector": {
   "cols": {
    "lenName": 16,
    "lenType": 16,
    "lenVar": 40
   },
   "kernels_config": {
    "python": {
     "delete_cmd_postfix": "",
     "delete_cmd_prefix": "del ",
     "library": "var_list.py",
     "varRefreshCmd": "print(var_dic_list())"
    },
    "r": {
     "delete_cmd_postfix": ") ",
     "delete_cmd_prefix": "rm(",
     "library": "var_list.r",
     "varRefreshCmd": "cat(var_dic_list()) "
    }
   },
   "types_to_exclude": [
    "module",
    "function",
    "builtin_function_or_method",
    "instance",
    "_Feature"
   ],
   "window_display": false
  }
 },
 "nbformat": 4,
 "nbformat_minor": 2
}
